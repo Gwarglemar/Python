{
 "cells": [
  {
   "cell_type": "markdown",
   "metadata": {},
   "source": [
    "# Guessing Game\n",
    "\n",
    "Game picks a random integer from 1-100. \n",
    "\n",
    "1. If a player's guess is less than 1 or greater than 100, say \"OUT OF BOUNDS\"\n",
    "2. On a player's first turn, if their guess is\n",
    " * within 10 of the number, returns \"WARM!\"\n",
    " * further than 10 away from the number, returns \"COLD!\"\n",
    "3. On all subsequent turns, if a guess is \n",
    " * closer to the number than the previous guess returns \"WARMER!\"\n",
    " * farther from the number than the previous guess, returns \"COLDER!\"\n",
    "4. When the player's guess equals the number, it tells them they've guessed correctly *and* how many guesses it took!"
   ]
  },
  {
   "cell_type": "code",
   "execution_count": 3,
   "metadata": {},
   "outputs": [
    {
     "name": "stdout",
     "output_type": "stream",
     "text": [
      "Your Guess: 85\n",
      "COLD!\n",
      "\n",
      "Your Guess: 55\n",
      "WARMER!\n",
      "\n",
      "Your Guess: 25\n",
      "WARMER!\n",
      "\n",
      "Your Guess: 35\n",
      "You got it!\n",
      "The number was 35.\n",
      "It took you 4 guesses.\n"
     ]
    }
   ],
   "source": [
    "#The Game\n",
    "\n",
    "lbound = 1\n",
    "ubound = 100\n",
    "\n",
    "from random import randint\n",
    "thenum = randint(lbound,ubound)\n",
    "\n",
    "count = 0\n",
    "howclose = 0\n",
    "howclosePrev = 0\n",
    "\n",
    "while True:\n",
    "    count += 1\n",
    "    \n",
    "    guess = int(input(\"Your Guess: \"))\n",
    "    \n",
    "    howclosePrev = howclose\n",
    "    howclose = abs(guess - thenum)\n",
    "    \n",
    "    if guess == thenum:\n",
    "        print(\"You got it!\")\n",
    "        print(f\"The number was {thenum}.\")\n",
    "        print(f\"It took you {count} guesses.\")\n",
    "        break\n",
    "    elif howclosePrev == None and howclose <= 10:\n",
    "        print(\"WARM!\\n\")\n",
    "    elif howclosePrev == 0:\n",
    "        print(\"COLD!\\n\")\n",
    "    elif howclose <= howclosePrev:\n",
    "        print(\"WARMER!\\n\")\n",
    "    elif howclose > howclosePrev:\n",
    "        print(\"COLDER!\\n\")\n",
    "    else:\n",
    "        \"OUT OF BOUNDS / INVALID INPUT\\n\""
   ]
  }
 ],
 "metadata": {
  "kernelspec": {
   "display_name": "Python 3",
   "language": "python",
   "name": "python3"
  }
 },
 "nbformat": 4,
 "nbformat_minor": 2
}
